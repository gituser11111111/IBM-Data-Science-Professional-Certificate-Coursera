{
 "cells": [
  {
   "cell_type": "code",
   "execution_count": 5,
   "id": "bd778394",
   "metadata": {},
   "outputs": [],
   "source": [
    "# Import required libraries\n",
    "import pandas as pd\n",
    "import dash\n",
    "import dash_html_components as html\n",
    "import dash_core_components as dcc\n",
    "from dash.dependencies import Input, Output\n",
    "import wget\n",
    "import plotly.express as px"
   ]
  },
  {
   "cell_type": "code",
   "execution_count": 6,
   "id": "f57fc60c",
   "metadata": {},
   "outputs": [
    {
     "name": "stdout",
     "output_type": "stream",
     "text": [
      "100% [................................................................................] 2476 / 2476"
     ]
    },
    {
     "data": {
      "text/plain": [
       "'spacex_launch_dash.csv'"
      ]
     },
     "execution_count": 6,
     "metadata": {},
     "output_type": "execute_result"
    }
   ],
   "source": [
    "wget.download(\"https://cf-courses-data.s3.us.cloud-object-storage.appdomain.cloud/IBM-DS0321EN-SkillsNetwork/datasets/spacex_launch_dash.csv\")"
   ]
  },
  {
   "cell_type": "code",
   "execution_count": 8,
   "id": "c8583f99",
   "metadata": {},
   "outputs": [
    {
     "name": "stdout",
     "output_type": "stream",
     "text": [
      "100% [................................................................................] 2110 / 2110"
     ]
    },
    {
     "data": {
      "text/plain": [
       "'spacex_dash_app.py'"
      ]
     },
     "execution_count": 8,
     "metadata": {},
     "output_type": "execute_result"
    }
   ],
   "source": [
    "wget.download(\"https://cf-courses-data.s3.us.cloud-object-storage.appdomain.cloud/IBM-DS0321EN-SkillsNetwork/labs/module_3/spacex_dash_app.py\")"
   ]
  },
  {
   "cell_type": "code",
   "execution_count": null,
   "id": "cd9daaa9",
   "metadata": {},
   "outputs": [],
   "source": []
  },
  {
   "cell_type": "code",
   "execution_count": null,
   "id": "c0e7d78f",
   "metadata": {},
   "outputs": [
    {
     "name": "stdout",
     "output_type": "stream",
     "text": [
      "Dash is running on http://127.0.0.1:8050/\n",
      "\n",
      " * Serving Flask app \"__main__\" (lazy loading)\n",
      " * Environment: production\n",
      "   WARNING: This is a development server. Do not use it in a production deployment.\n",
      "   Use a production WSGI server instead.\n",
      " * Debug mode: off\n"
     ]
    },
    {
     "name": "stderr",
     "output_type": "stream",
     "text": [
      " * Running on http://127.0.0.1:8050/ (Press CTRL+C to quit)\n",
      "127.0.0.1 - - [02/Sep/2022 12:32:09] \"\u001b[37mGET / HTTP/1.1\u001b[0m\" 200 -\n",
      "127.0.0.1 - - [02/Sep/2022 12:32:09] \"\u001b[37mGET /_dash-component-suites/dash/deps/react-dom@16.v2_4_1m1652906639.14.0.min.js HTTP/1.1\u001b[0m\" 200 -\n",
      "127.0.0.1 - - [02/Sep/2022 12:32:09] \"\u001b[37mGET /_dash-component-suites/dash/deps/prop-types@15.v2_4_1m1652906639.8.1.min.js HTTP/1.1\u001b[0m\" 200 -\n",
      "127.0.0.1 - - [02/Sep/2022 12:32:09] \"\u001b[37mGET /_dash-component-suites/dash/deps/react@16.v2_4_1m1652906639.14.0.min.js HTTP/1.1\u001b[0m\" 200 -\n",
      "127.0.0.1 - - [02/Sep/2022 12:32:09] \"\u001b[37mGET /_dash-component-suites/dash/dcc/dash_core_components-shared.v2_4_0m1652906639.js HTTP/1.1\u001b[0m\" 200 -\n",
      "127.0.0.1 - - [02/Sep/2022 12:32:09] \"\u001b[37mGET /_dash-component-suites/dash/deps/polyfill@7.v2_4_1m1652906639.12.1.min.js HTTP/1.1\u001b[0m\" 200 -\n",
      "127.0.0.1 - - [02/Sep/2022 12:32:09] \"\u001b[37mGET /_dash-component-suites/dash/dash_table/bundle.v5_1_2m1652906639.js HTTP/1.1\u001b[0m\" 200 -\n",
      "127.0.0.1 - - [02/Sep/2022 12:32:09] \"\u001b[37mGET /_dash-component-suites/dash/dash-renderer/build/dash_renderer.v2_4_1m1652906638.min.js HTTP/1.1\u001b[0m\" 200 -\n",
      "127.0.0.1 - - [02/Sep/2022 12:32:09] \"\u001b[37mGET /_dash-component-suites/dash/html/dash_html_components.v2_0_3m1652906639.min.js HTTP/1.1\u001b[0m\" 200 -\n",
      "127.0.0.1 - - [02/Sep/2022 12:32:09] \"\u001b[37mGET /_dash-component-suites/dash/dcc/dash_core_components.v2_4_0m1652906639.js HTTP/1.1\u001b[0m\" 200 -\n",
      "127.0.0.1 - - [02/Sep/2022 12:32:09] \"\u001b[37mGET /_dash-layout HTTP/1.1\u001b[0m\" 200 -\n",
      "127.0.0.1 - - [02/Sep/2022 12:32:09] \"\u001b[37mGET /_dash-dependencies HTTP/1.1\u001b[0m\" 200 -\n",
      "127.0.0.1 - - [02/Sep/2022 12:32:09] \"\u001b[37mGET /_dash-component-suites/dash/dcc/async-dropdown.js HTTP/1.1\u001b[0m\" 200 -\n",
      "127.0.0.1 - - [02/Sep/2022 12:32:09] \"\u001b[37mGET /_dash-component-suites/dash/dcc/async-slider.js HTTP/1.1\u001b[0m\" 200 -\n",
      "127.0.0.1 - - [02/Sep/2022 12:32:09] \"\u001b[37mGET /_dash-component-suites/dash/dcc/async-graph.js HTTP/1.1\u001b[0m\" 200 -\n",
      "127.0.0.1 - - [02/Sep/2022 12:32:09] \"\u001b[37mGET /_dash-component-suites/dash/dcc/async-plotlyjs.js HTTP/1.1\u001b[0m\" 200 -\n",
      "127.0.0.1 - - [02/Sep/2022 12:32:10] \"\u001b[37mGET /_favicon.ico?v=2.4.1 HTTP/1.1\u001b[0m\" 200 -\n",
      "127.0.0.1 - - [02/Sep/2022 12:32:10] \"\u001b[37mPOST /_dash-update-component HTTP/1.1\u001b[0m\" 200 -\n",
      "127.0.0.1 - - [02/Sep/2022 12:32:10] \"\u001b[37mPOST /_dash-update-component HTTP/1.1\u001b[0m\" 200 -\n"
     ]
    }
   ],
   "source": [
    "\n",
    "\n",
    "# Read the airline data into pandas dataframe\n",
    "spacex_df = pd.read_csv(\"spacex_launch_dash.csv\")\n",
    "max_payload = spacex_df['Payload Mass (kg)'].max()\n",
    "min_payload = spacex_df['Payload Mass (kg)'].min()\n",
    "\n",
    "# Create a dash application\n",
    "app = dash.Dash(__name__)\n",
    "\n",
    "# Create an app layout\n",
    "app.layout = html.Div(children=[html.H1('SpaceX Launch Records Dashboard',\n",
    "                                        style={'textAlign': 'center', 'color': '#503D36',\n",
    "                                               'font-size': 40}),\n",
    "                                # TASK 1: Add a dropdown list to enable Launch Site selection\n",
    "                                # The default select value is for ALL sites\n",
    "                                # dcc.Dropdown(id='site-dropdown',...)\n",
    "                                dcc.Dropdown(id='site-dropdown',\n",
    "                                            options=[\n",
    "                                                         {'label': 'ALL SITES', 'value': 'ALL'},\n",
    "                                                         {'label': 'CCAFS LC-40', 'value': 'CCAFS LC-40'},\n",
    "                                                         {'label': 'VAFB SLC-4E', 'value': 'VAFB SLC-4E'},\n",
    "                                                         {'label': 'KSC LC-39A', 'value': 'KSC LC-39A'},\n",
    "                                                         {'label': 'CCAFS SLC-40', 'value': 'CCAFS SLC-40'}\n",
    "                                                    ],\n",
    "                                            value='ALL',\n",
    "                                            placeholder=\"Select a Launch Site here\", \n",
    "                                            searchable=True),\n",
    "                                html.Br(),\n",
    "\n",
    "                                # TASK 2: Add a pie chart to show the total successful launches count for all sites\n",
    "                                # If a specific launch site was selected, show the Success vs. Failed counts for the site\n",
    "                                html.Div(dcc.Graph(id='success-pie-chart')),\n",
    "                                html.Br(),\n",
    "\n",
    "                                html.P(\"Payload range (Kg):\"),\n",
    "                                # TASK 3: Add a slider to select payload range\n",
    "                                dcc.RangeSlider(id='payload-slider',\n",
    "                                                min=0,max=10000,step=1000,\n",
    "                                                value=[min_payload,max_payload],\n",
    "                                                marks={0: '0', 2500:'2500',5000:'5000',\n",
    "                                                7500:'7500', 10000: '10000'}),\n",
    "\n",
    "                                # TASK 4: Add a scatter chart to show the correlation between payload and launch success\n",
    "                                html.Div(dcc.Graph(id='success-payload-scatter-chart')),\n",
    "                                ])\n",
    "\n",
    "# TASK 2:\n",
    "# Add a callback function for `site-dropdown` as input, `success-pie-chart` as output\n",
    "@app.callback(\n",
    "    Output(component_id='success-pie-chart', component_property='figure'),\n",
    "    Input(component_id='site-dropdown', component_property='value'))\n",
    "\n",
    "def build_graph(site_dropdown):\n",
    "    if site_dropdown == 'ALL':\n",
    "        piechart = px.pie(data_frame = spacex_df, names='Launch Site', values='class' ,title='Total Launches for All Sites')\n",
    "        return piechart\n",
    "    else:\n",
    "        #specific_df = spacex_df['Launch Site']\n",
    "        specific_df=spacex_df.loc[spacex_df['Launch Site'] == site_dropdown]\n",
    "        piechart = px.pie(data_frame = specific_df, names='class',title='Total Launch for a Specific Site')\n",
    "        return piechart\n",
    "\n",
    "# TASK 4:\n",
    "# Add a callback function for `site-dropdown` and `payload-slider` as inputs, `success-payload-scatter-chart` as output\n",
    "@app.callback(\n",
    "    Output(component_id='success-payload-scatter-chart', component_property='figure'),\n",
    "    [Input(component_id='site-dropdown', component_property='value'),\n",
    "    Input(component_id='payload-slider', component_property='value')])\n",
    "\n",
    "def update_graph(site_dropdown, payload_slider):\n",
    "    if site_dropdown == 'ALL':\n",
    "        filtered_data = spacex_df[(spacex_df['Payload Mass (kg)']>=payload_slider[0])\n",
    "        &(spacex_df['Payload Mass (kg)']<=payload_slider[1])]\n",
    "        scatterplot = px.scatter(data_frame=filtered_data, x=\"Payload Mass (kg)\", y=\"class\", \n",
    "        color=\"Booster Version Category\")\n",
    "        return scatterplot\n",
    "    else:\n",
    "        specific_df=spacex_df.loc[spacex_df['Launch Site'] == site_dropdown]\n",
    "        filtered_data = specific_df[(specific_df['Payload Mass (kg)']>=payload_slider[0])\n",
    "        &(spacex_df['Payload Mass (kg)']<=payload_slider[1])]\n",
    "        scatterplot = px.scatter(data_frame=filtered_data, x=\"Payload Mass (kg)\", y=\"class\", \n",
    "        color=\"Booster Version Category\")\n",
    "        return scatterplot\n",
    "\n",
    "# Run the app\n",
    "if __name__ == '__main__':\n",
    "    app.run_server()"
   ]
  },
  {
   "cell_type": "code",
   "execution_count": null,
   "id": "573c164d",
   "metadata": {},
   "outputs": [],
   "source": []
  }
 ],
 "metadata": {
  "kernelspec": {
   "display_name": "Python 3",
   "language": "python",
   "name": "python3"
  },
  "language_info": {
   "codemirror_mode": {
    "name": "ipython",
    "version": 3
   },
   "file_extension": ".py",
   "mimetype": "text/x-python",
   "name": "python",
   "nbconvert_exporter": "python",
   "pygments_lexer": "ipython3",
   "version": "3.8.8"
  }
 },
 "nbformat": 4,
 "nbformat_minor": 5
}
